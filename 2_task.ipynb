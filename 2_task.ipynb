{
 "cells": [
  {
   "cell_type": "code",
   "execution_count": 754,
   "metadata": {},
   "outputs": [],
   "source": [
    "import os\n",
    "import matplotlib.pyplot as plt\n",
    "import numpy as np\n",
    "import pandas as pd\n",
    "from sympy import *\n",
    "from scipy import *"
   ]
  },
  {
   "cell_type": "markdown",
   "metadata": {},
   "source": [
    "## 9.1(б) ##\n",
    "\n",
    "Методом обратной интерполяции найти корень нелинейного\n",
    "уравнения, используя приведенные таблицы. Оценить точность полученного решения.\n",
    "\n",
    "$$ (x - 1)^2 - \\frac{e^x}{2} = 0 $$\n",
    "\n",
    "| x    | f(x) |\n",
    "| --------| ------- |\n",
    "| 2 | 0.029 |\n",
    "| 2.5 | -0.080 |\n",
    "| 2.7 | -0.122 |\n",
    "| 3 | -0.185 |"
   ]
  },
  {
   "cell_type": "markdown",
   "metadata": {},
   "source": [
    "### Решение ###\n",
    "\n",
    "Заметим, что $f(x)$ - убывает, поэтому существует g(f(x))\n",
    "\n",
    "Суть алгоритма заключается в следующем:\n",
    "\n",
    "1) Мы ищем многочлен Ньютона и записываем его \"вперед\"\n",
    "$$ L(x) = f(x_0) + f(x_0, x_1)(x-x_0) + f(x_0, x_1, x_2)(x-x_0)(x - x_1) + ...$$\n",
    "\n",
    "2) Подставляем x* = 0, и полученоное значение $L(x*)$ будет являться решением"
   ]
  },
  {
   "cell_type": "code",
   "execution_count": 755,
   "metadata": {},
   "outputs": [
    {
     "name": "stdout",
     "output_type": "stream",
     "text": [
      "0.212881200695242\n",
      "-0.476190476190477*x + (-5.28677630773884e-16*x - 6.44986709544138e-17)*(x + 0.185) + (0.540783556978449*x + 0.0432626845582759)*(x + 0.122)*(x + 0.185) + 0.211904761904762\n"
     ]
    }
   ],
   "source": [
    "y = np.array([2, 2.5, 2.7, 3]) * 0.1\n",
    "x = np.array([0.029, -0.080, -0.122, -0.185])\n",
    "\n",
    "levels = []\n",
    "s_x = symbols('x')\n",
    "expr = y[3]\n",
    "levels.append(y)\n",
    "for i in range(1, len(x)):\n",
    "    level = []\n",
    "    for j in range(0, len(x) - i):\n",
    "        coef = (levels[i - 1][j] - levels[i - 1][j+1]) / (x[j] - x[j + i])\n",
    "        if (j == len(x) - i - 1):\n",
    "            expr_tmp = coef\n",
    "            for k in  range(j, len(x) -1):\n",
    "                expr_tmp *= (s_x - x[k + 1])\n",
    "            expr += expr_tmp\n",
    "        level.append(coef)\n",
    "    levels.append(level)\n",
    "\n",
    "result = expr.subs({s_x: 0})\n",
    "print(result)\n",
    "print(expr)"
   ]
  },
  {
   "cell_type": "markdown",
   "metadata": {},
   "source": [
    "Получили следующий результата\n",
    "$$x_{solve} = 0.21288 $$\n",
    "$$x_{table} = 0.213$$"
   ]
  },
  {
   "cell_type": "markdown",
   "metadata": {},
   "source": [
    "### Оценим ошибку ###"
   ]
  },
  {
   "cell_type": "code",
   "execution_count": 756,
   "metadata": {},
   "outputs": [
    {
     "name": "stdout",
     "output_type": "stream",
     "text": [
      "-(x - 0.029)*(x + 0.08)*(x + 0.122)*(x + 0.185)*exp(x)/2\n",
      "2.61812000000000e-5\n"
     ]
    }
   ],
   "source": [
    "expr = ((s_x - 1)**2 - exp(s_x) /2)\n",
    "for i in range(0, len(x)):\n",
    "    expr = diff(expr, s_x)\n",
    "\n",
    "fact = len(x)\n",
    "for k in  range(0, len(x)):\n",
    "    expr *= (s_x - x[k])\n",
    "\n",
    "print(expr)\n",
    "result = expr.subs({s_x: 0})\n",
    "print(result)"
   ]
  },
  {
   "cell_type": "markdown",
   "metadata": {},
   "source": [
    "Ошибка составила:\n",
    "$$ \\Delta = 2.6 * 10^{-5}$$\n",
    "$$x_{solve} = 0.21288 $$\n"
   ]
  },
  {
   "cell_type": "markdown",
   "metadata": {},
   "source": [
    "## 9.1 ##\n",
    "\n",
    "Для функции, заданной таблично, вычислить значение интеграла\n",
    "с использованием указанной формулы. Уточнить полученное значение\n",
    "интеграла с помощью экстраполяции Ричардсона.\n",
    "\n",
    "а) формулы Симпсона \n",
    "\n",
    "б) формула трапеции"
   ]
  },
  {
   "cell_type": "markdown",
   "metadata": {},
   "source": [
    "### По формуле Симпсона ###\n",
    "\n",
    "$$\\sum^n_{i = 0} = \\frac{(b - a)}{6}(f_i(a) + 4f_i(\\frac{(a+b)}{2}) + f_i(b))$$\n",
    "\n",
    "$$f(x) \\sim x^2$$"
   ]
  },
  {
   "cell_type": "code",
   "execution_count": 757,
   "metadata": {},
   "outputs": [
    {
     "name": "stdout",
     "output_type": "stream",
     "text": [
      "[1.24540833 1.24540833 1.24540833 1.24540833]\n",
      "[1.16715 1.16715 1.16715 1.16715]\n"
     ]
    }
   ],
   "source": [
    "x = np.array([-1, -0.75, -0.5, -0.25, 0, 0.25, 0.5, 0.75, 1])\n",
    "y = np.array([-1, -0.14, -0.032, 0.01, 0, 0.002, 0.003, 0.0031, 0.0029])\n",
    "\n",
    "res:float = 0\n",
    "i = 0\n",
    "while i < len(x) - 1:\n",
    "    res = res + ((x[i + 2] - x[i])/ 6 * (y[i] + 4*[i + 1] + y[i + 2]))\n",
    "    i = i +2\n",
    "print(res)\n",
    "\n",
    "res2 = 0\n",
    "i = 0\n",
    "while i < len(x) - 1:\n",
    "    res2 = res2 + ((x[i + 4] - x[i])/ 6 * (y[i] + 4*[i + 2] + y[i + 4]))\n",
    "    i = i + 4\n",
    "print(res2)"
   ]
  },
  {
   "cell_type": "markdown",
   "metadata": {},
   "source": [
    "Получили результат при h:\n",
    "$$\\int^{1}_{-1} f(x) \\approx 1.2454$$\n",
    "\n",
    "Получили результат при 2h:\n",
    "$$\\int^{1}_{-1} f(x) \\approx 1.1672$$"
   ]
  },
  {
   "cell_type": "markdown",
   "metadata": {},
   "source": [
    "### По формуле Трапеции ###\n",
    "\n",
    "$$\\sum^n_{i = 0} = \\frac{(b - a)}{2}(f_i(a) + f_i(b))$$\n"
   ]
  },
  {
   "cell_type": "code",
   "execution_count": 758,
   "metadata": {},
   "outputs": [
    {
     "name": "stdout",
     "output_type": "stream",
     "text": [
      "0.20375\n",
      "0.182\n"
     ]
    }
   ],
   "source": [
    "x = [0, 0.25, 0.5, 0.75, 1, 1.25, 1.5, 1.75, 2]\n",
    "y = [0, 0.028, 0.054, 0.078, 0.1, 0.2, 0.133, 0.145, 0.154]\n",
    "\n",
    "# x = [0, 0.125, 0.25, 0.375 ,0.5, 0.625, 0.75, 0.875, 1]\n",
    "# y = [1.0, 0.984615, 0.941176, 0.876712, 0.8, 0.719101, 0.64, 0.566372, 0.5]\n",
    "\n",
    "res:float = 0\n",
    "i = 0\n",
    "while i < len(x) -1:\n",
    "    res = res + ((x[i + 1] - x[i])/ 2 * (y[i] + y[i + 1]))\n",
    "    i = i + 1\n",
    "print(res)\n",
    "\n",
    "res2 = 0\n",
    "i = 0\n",
    "while i < len(x) -1:\n",
    "    res2 = res2 + ((x[i + 2] - x[i])/ 2 * (y[i] + y[i + 2]))\n",
    "    i = i + 2\n",
    "print(res2)"
   ]
  },
  {
   "cell_type": "markdown",
   "metadata": {},
   "source": [
    "Получили результат при h:\n",
    "$$\\int^{2}_{0} f(x) \\approx 0.204$$\n",
    "\n",
    "Получили результат при 2h:\n",
    "$$\\int^{2}_{0} f(x) \\approx 0.182$$"
   ]
  },
  {
   "cell_type": "markdown",
   "metadata": {},
   "source": [
    "### Уточним полученные результаты при помощи экстрополяции Ричардсона ###\n",
    "\n",
    "$$I = I^{p}(\\frac{h}{2}) + \\frac{I^{p}(\\frac{h}{2})- I^{p}(h)} {2^p - 1} $$"
   ]
  },
  {
   "cell_type": "code",
   "execution_count": 759,
   "metadata": {},
   "outputs": [
    {
     "name": "stdout",
     "output_type": "stream",
     "text": [
      "0.211\n"
     ]
    }
   ],
   "source": [
    "print(0.20375 + ((0.20375 - 0.182)/(3))) # Дельта для трапеции"
   ]
  },
  {
   "cell_type": "code",
   "execution_count": 760,
   "metadata": {},
   "outputs": [
    {
     "name": "stdout",
     "output_type": "stream",
     "text": [
      "1.2506133333333334\n"
     ]
    }
   ],
   "source": [
    "print(1.2454 + ((1.2454 - 1.1672)/(15))) # Дельта для Симпсона"
   ]
  },
  {
   "cell_type": "markdown",
   "metadata": {},
   "source": [
    "### C поправкой Ричардсона ###\n",
    "\n",
    "1) Симпсон\n",
    "$$\\int =  I + \\Delta = 1.2506$$\n",
    "2) Трапеция\n",
    "$$\\int =  I + \\Delta = 0.211$$"
   ]
  },
  {
   "cell_type": "markdown",
   "metadata": {},
   "source": [
    "## 10.1 ##\n",
    "\n",
    "Выписать формулы Эйлера с пересчетом для следующих задач:\n",
    "\n",
    "а) $y′ = x + cos y; \\;\\; y(1) = 30; \\;\\;1 ≤ x ≤ 2$,\n",
    "\n",
    "б) $y′ = x^2 + y^2; \\;\\; y(2) = 1; \\;\\; 1 ≤ x ≤ 2$.\n",
    "\n",
    "Провести вычисления с шагом h = 0,01."
   ]
  },
  {
   "cell_type": "markdown",
   "metadata": {},
   "source": [
    "###  Описание ###\n",
    "\n",
    "При данном подходе рекуррентное соотношение видоизменяется, а именно, вместо $f(x_i, y_i)$ берут среднее арифметическое между $f(x_i, y_i)$ и $f(x_{i+1}, y_{i+1})$.\n",
    "\n",
    "$$ y_{i+1} = y_i = \\frac{h}{2}(f(x_{i}, y_{i}) + f(x_{i+1}, y_{i+1})) $$\n",
    "\n",
    "Это неявная схема. Она реализуется в две итерации: сначала находится первое приближение, считая $y_i$ начальной\n",
    "\n",
    "$$Y_{i+1} = y_i + hf(x_i, y_i)$$\n",
    "\n",
    "затем подставляется в правую часть  вместо $y_{i+1}$\n",
    "$$ y_{i+1} = y_i + \\frac{h}{2}(f(x_{i}, y_{i}) + f(x_{i+1}, Y_{i+1})) $$\n"
   ]
  },
  {
   "cell_type": "code",
   "execution_count": 761,
   "metadata": {},
   "outputs": [
    {
     "name": "stdout",
     "output_type": "stream",
     "text": [
      "0\n",
      "0.2\n",
      "0.4\n",
      "0.6000000000000001\n",
      "0.8\n",
      "1.0\n",
      "2.265787377244199\n"
     ]
    }
   ],
   "source": [
    "def solve(x_i, y_i, a, b, h, expr):\n",
    "    Y = val = 0\n",
    "    if x_i > a:\n",
    "        step = -h\n",
    "    else:\n",
    "        step = h\n",
    "\n",
    "    while x_i <= b and x_i >= a:\n",
    "        print(x_i)\n",
    "        Y = float(y_i + h * expr.subs({s_x: x_i, s_y: y_i}))\n",
    "        val = float((expr.subs({s_x: x_i, s_y: y_i}) + expr.subs({s_x: x_i, s_y: Y})))\n",
    "        # print(x_i, y_i)\n",
    "        y_i = float(y_i + h/2 * val)\n",
    "        x_i = x_i + step\n",
    "\n",
    "    return y_i\n",
    "\n",
    "\n",
    "s_x, s_y = symbols('x y')\n",
    "\n",
    "expr = s_y - 2*s_x / s_y\n",
    "print(solve(0, 1, 0, 1, 0.2, expr))\n",
    "\n",
    "expr = s_x + cos(s_y)\n",
    "print(solve(1, 30, 1, 2, 0.01, expr))\n",
    "\n",
    "expr = s_x**2 + s_y**2\n",
    "print(solve(2, 1, 1, 2, 0.01, expr))\n",
    "\n",
    "# print(y_i)\n"
   ]
  }
 ],
 "metadata": {
  "kernelspec": {
   "display_name": "my-python3-kernel",
   "language": "python",
   "name": "my-python3-kernel"
  },
  "language_info": {
   "codemirror_mode": {
    "name": "ipython",
    "version": 3
   },
   "file_extension": ".py",
   "mimetype": "text/x-python",
   "name": "python",
   "nbconvert_exporter": "python",
   "pygments_lexer": "ipython3",
   "version": "3.12.6"
  }
 },
 "nbformat": 4,
 "nbformat_minor": 2
}
